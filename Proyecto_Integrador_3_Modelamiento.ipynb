{
 "cells": [
  {
   "cell_type": "markdown",
   "metadata": {
    "id": "4WaoEOp0KkSp"
   },
   "source": [
    "![HenryLogo](https://d31uz8lwfmyn8g.cloudfront.net/Assets/logo-henry-white-lg.png)\n",
    "\n",
    "# **Proyecto integrador**\n",
    "\n",
    "### 3. Modelamiento\n",
    "\n",
    "Una vez preparados los datos, se procederá con el modelamiento. Recuerden que el objetivo es clasificar a un paciente como hospitalizado o no hospitalizado, teniendo en cuenta un data set que contiene información referente a antecedentes del paciente, morbilidad asociada al paciente y antecedentes relacionados con la toma de la biopsia y complicaciones infecciosas.\n",
    "\n",
    "\n"
   ]
  },
  {
   "cell_type": "markdown",
   "metadata": {
    "id": "E22GkymtLevx"
   },
   "source": [
    "Carguen la base de datos preparada desde la fase 2."
   ]
  },
  {
   "cell_type": "code",
   "execution_count": 1,
   "metadata": {
    "id": "dlRCMYtGLqDJ"
   },
   "outputs": [],
   "source": [
    "import pandas as pd\n",
    "import numpy as np \n",
    "import matplotlib.pyplot as plt\n",
    "import seaborn as sns"
   ]
  },
  {
   "cell_type": "code",
   "execution_count": 2,
   "metadata": {},
   "outputs": [
    {
     "data": {
      "text/html": [
       "<div>\n",
       "<style scoped>\n",
       "    .dataframe tbody tr th:only-of-type {\n",
       "        vertical-align: middle;\n",
       "    }\n",
       "\n",
       "    .dataframe tbody tr th {\n",
       "        vertical-align: top;\n",
       "    }\n",
       "\n",
       "    .dataframe thead th {\n",
       "        text-align: right;\n",
       "    }\n",
       "</style>\n",
       "<table border=\"1\" class=\"dataframe\">\n",
       "  <thead>\n",
       "    <tr style=\"text-align: right;\">\n",
       "      <th></th>\n",
       "      <th>FIEBRE</th>\n",
       "      <th>ITU</th>\n",
       "      <th>HOSPITALIZACION</th>\n",
       "      <th>EDAD_norm</th>\n",
       "      <th>PSA_norm</th>\n",
       "      <th>NUMERO_DE_MUESTRAS_TOMADAS_norm</th>\n",
       "      <th>NUMERO_DE_DIAS_POST_BIOPSIA_norm</th>\n",
       "      <th>Patron de Resistencia_ AMPI R, CIPRO R, GENTA R, SULFA M R</th>\n",
       "      <th>Patron de Resistencia_MULTI SENSIBLE</th>\n",
       "      <th>Patron de Resistencia_RESISTENTE A AMPI, CIPRO Y GENTA</th>\n",
       "      <th>Tipo de Cultivo_HEMOCULTIVO</th>\n",
       "      <th>Tipo de Cultivo_HEMOCULTIVO Y UROCULTIVO</th>\n",
       "      <th>Agente Aislado_E.COLI</th>\n",
       "      <th>Agente Aislado_NO</th>\n",
       "    </tr>\n",
       "  </thead>\n",
       "  <tbody>\n",
       "    <tr>\n",
       "      <th>0</th>\n",
       "      <td>1</td>\n",
       "      <td>0</td>\n",
       "      <td>1</td>\n",
       "      <td>-1.145870</td>\n",
       "      <td>-0.927426</td>\n",
       "      <td>-0.318613</td>\n",
       "      <td>1.096669</td>\n",
       "      <td>0</td>\n",
       "      <td>0</td>\n",
       "      <td>0</td>\n",
       "      <td>0</td>\n",
       "      <td>0</td>\n",
       "      <td>0</td>\n",
       "      <td>1</td>\n",
       "    </tr>\n",
       "    <tr>\n",
       "      <th>1</th>\n",
       "      <td>1</td>\n",
       "      <td>0</td>\n",
       "      <td>1</td>\n",
       "      <td>-0.820639</td>\n",
       "      <td>-0.367534</td>\n",
       "      <td>-0.318613</td>\n",
       "      <td>1.096669</td>\n",
       "      <td>0</td>\n",
       "      <td>0</td>\n",
       "      <td>0</td>\n",
       "      <td>0</td>\n",
       "      <td>0</td>\n",
       "      <td>0</td>\n",
       "      <td>1</td>\n",
       "    </tr>\n",
       "    <tr>\n",
       "      <th>2</th>\n",
       "      <td>1</td>\n",
       "      <td>0</td>\n",
       "      <td>1</td>\n",
       "      <td>-0.712229</td>\n",
       "      <td>2.855627</td>\n",
       "      <td>2.790152</td>\n",
       "      <td>1.096669</td>\n",
       "      <td>1</td>\n",
       "      <td>0</td>\n",
       "      <td>0</td>\n",
       "      <td>1</td>\n",
       "      <td>0</td>\n",
       "      <td>1</td>\n",
       "      <td>0</td>\n",
       "    </tr>\n",
       "    <tr>\n",
       "      <th>3</th>\n",
       "      <td>1</td>\n",
       "      <td>0</td>\n",
       "      <td>1</td>\n",
       "      <td>-0.820639</td>\n",
       "      <td>-0.473460</td>\n",
       "      <td>-0.318613</td>\n",
       "      <td>1.096669</td>\n",
       "      <td>0</td>\n",
       "      <td>0</td>\n",
       "      <td>0</td>\n",
       "      <td>0</td>\n",
       "      <td>0</td>\n",
       "      <td>0</td>\n",
       "      <td>1</td>\n",
       "    </tr>\n",
       "    <tr>\n",
       "      <th>4</th>\n",
       "      <td>1</td>\n",
       "      <td>0</td>\n",
       "      <td>1</td>\n",
       "      <td>-0.929049</td>\n",
       "      <td>2.855627</td>\n",
       "      <td>2.790152</td>\n",
       "      <td>1.096669</td>\n",
       "      <td>0</td>\n",
       "      <td>0</td>\n",
       "      <td>0</td>\n",
       "      <td>1</td>\n",
       "      <td>0</td>\n",
       "      <td>1</td>\n",
       "      <td>0</td>\n",
       "    </tr>\n",
       "  </tbody>\n",
       "</table>\n",
       "</div>"
      ],
      "text/plain": [
       "   FIEBRE  ITU  HOSPITALIZACION  EDAD_norm  PSA_norm  \\\n",
       "0       1    0                1  -1.145870 -0.927426   \n",
       "1       1    0                1  -0.820639 -0.367534   \n",
       "2       1    0                1  -0.712229  2.855627   \n",
       "3       1    0                1  -0.820639 -0.473460   \n",
       "4       1    0                1  -0.929049  2.855627   \n",
       "\n",
       "   NUMERO_DE_MUESTRAS_TOMADAS_norm  NUMERO_DE_DIAS_POST_BIOPSIA_norm  \\\n",
       "0                        -0.318613                          1.096669   \n",
       "1                        -0.318613                          1.096669   \n",
       "2                         2.790152                          1.096669   \n",
       "3                        -0.318613                          1.096669   \n",
       "4                         2.790152                          1.096669   \n",
       "\n",
       "   Patron de Resistencia_ AMPI R, CIPRO R, GENTA R, SULFA M R  \\\n",
       "0                                                  0            \n",
       "1                                                  0            \n",
       "2                                                  1            \n",
       "3                                                  0            \n",
       "4                                                  0            \n",
       "\n",
       "   Patron de Resistencia_MULTI SENSIBLE  \\\n",
       "0                                     0   \n",
       "1                                     0   \n",
       "2                                     0   \n",
       "3                                     0   \n",
       "4                                     0   \n",
       "\n",
       "   Patron de Resistencia_RESISTENTE A AMPI, CIPRO Y GENTA  \\\n",
       "0                                                  0        \n",
       "1                                                  0        \n",
       "2                                                  0        \n",
       "3                                                  0        \n",
       "4                                                  0        \n",
       "\n",
       "   Tipo de Cultivo_HEMOCULTIVO  Tipo de Cultivo_HEMOCULTIVO Y UROCULTIVO  \\\n",
       "0                            0                                         0   \n",
       "1                            0                                         0   \n",
       "2                            1                                         0   \n",
       "3                            0                                         0   \n",
       "4                            1                                         0   \n",
       "\n",
       "   Agente Aislado_E.COLI  Agente Aislado_NO  \n",
       "0                      0                  1  \n",
       "1                      0                  1  \n",
       "2                      1                  0  \n",
       "3                      0                  1  \n",
       "4                      1                  0  "
      ]
     },
     "execution_count": 2,
     "metadata": {},
     "output_type": "execute_result"
    }
   ],
   "source": [
    "df = pd.read_csv(r\"C:\\Users\\nahue\\Searches\\Escritorio\\CARRERA HENRY\\M6\\Proyecto Integrador\\BBDD_Hospitalizacion_listo_para_modelar.csv\")\n",
    "#Le tuve que colocar la r por delante a la dirección del archivo porque me daba error de sintaxis 'unicodeescape'\n",
    "\n",
    "df.head()"
   ]
  },
  {
   "cell_type": "markdown",
   "metadata": {
    "id": "X33Od3Y_Lrye"
   },
   "source": [
    "Separen el dataset en X, y (variable objetivo)"
   ]
  },
  {
   "cell_type": "code",
   "execution_count": 3,
   "metadata": {
    "id": "Zjq3g_zkMUT5"
   },
   "outputs": [
    {
     "data": {
      "text/html": [
       "<div>\n",
       "<style scoped>\n",
       "    .dataframe tbody tr th:only-of-type {\n",
       "        vertical-align: middle;\n",
       "    }\n",
       "\n",
       "    .dataframe tbody tr th {\n",
       "        vertical-align: top;\n",
       "    }\n",
       "\n",
       "    .dataframe thead th {\n",
       "        text-align: right;\n",
       "    }\n",
       "</style>\n",
       "<table border=\"1\" class=\"dataframe\">\n",
       "  <thead>\n",
       "    <tr style=\"text-align: right;\">\n",
       "      <th></th>\n",
       "      <th>FIEBRE</th>\n",
       "      <th>ITU</th>\n",
       "      <th>EDAD_norm</th>\n",
       "      <th>PSA_norm</th>\n",
       "      <th>NUMERO_DE_MUESTRAS_TOMADAS_norm</th>\n",
       "      <th>NUMERO_DE_DIAS_POST_BIOPSIA_norm</th>\n",
       "      <th>Patron de Resistencia_ AMPI R, CIPRO R, GENTA R, SULFA M R</th>\n",
       "      <th>Patron de Resistencia_MULTI SENSIBLE</th>\n",
       "      <th>Patron de Resistencia_RESISTENTE A AMPI, CIPRO Y GENTA</th>\n",
       "      <th>Tipo de Cultivo_HEMOCULTIVO</th>\n",
       "      <th>Tipo de Cultivo_HEMOCULTIVO Y UROCULTIVO</th>\n",
       "      <th>Agente Aislado_E.COLI</th>\n",
       "      <th>Agente Aislado_NO</th>\n",
       "      <th>HOSPITALIZACION</th>\n",
       "    </tr>\n",
       "  </thead>\n",
       "  <tbody>\n",
       "    <tr>\n",
       "      <th>0</th>\n",
       "      <td>1</td>\n",
       "      <td>0</td>\n",
       "      <td>-1.145870</td>\n",
       "      <td>-0.927426</td>\n",
       "      <td>-0.318613</td>\n",
       "      <td>1.096669</td>\n",
       "      <td>0</td>\n",
       "      <td>0</td>\n",
       "      <td>0</td>\n",
       "      <td>0</td>\n",
       "      <td>0</td>\n",
       "      <td>0</td>\n",
       "      <td>1</td>\n",
       "      <td>1</td>\n",
       "    </tr>\n",
       "    <tr>\n",
       "      <th>1</th>\n",
       "      <td>1</td>\n",
       "      <td>0</td>\n",
       "      <td>-0.820639</td>\n",
       "      <td>-0.367534</td>\n",
       "      <td>-0.318613</td>\n",
       "      <td>1.096669</td>\n",
       "      <td>0</td>\n",
       "      <td>0</td>\n",
       "      <td>0</td>\n",
       "      <td>0</td>\n",
       "      <td>0</td>\n",
       "      <td>0</td>\n",
       "      <td>1</td>\n",
       "      <td>1</td>\n",
       "    </tr>\n",
       "    <tr>\n",
       "      <th>2</th>\n",
       "      <td>1</td>\n",
       "      <td>0</td>\n",
       "      <td>-0.712229</td>\n",
       "      <td>2.855627</td>\n",
       "      <td>2.790152</td>\n",
       "      <td>1.096669</td>\n",
       "      <td>1</td>\n",
       "      <td>0</td>\n",
       "      <td>0</td>\n",
       "      <td>1</td>\n",
       "      <td>0</td>\n",
       "      <td>1</td>\n",
       "      <td>0</td>\n",
       "      <td>1</td>\n",
       "    </tr>\n",
       "    <tr>\n",
       "      <th>3</th>\n",
       "      <td>1</td>\n",
       "      <td>0</td>\n",
       "      <td>-0.820639</td>\n",
       "      <td>-0.473460</td>\n",
       "      <td>-0.318613</td>\n",
       "      <td>1.096669</td>\n",
       "      <td>0</td>\n",
       "      <td>0</td>\n",
       "      <td>0</td>\n",
       "      <td>0</td>\n",
       "      <td>0</td>\n",
       "      <td>0</td>\n",
       "      <td>1</td>\n",
       "      <td>1</td>\n",
       "    </tr>\n",
       "    <tr>\n",
       "      <th>4</th>\n",
       "      <td>1</td>\n",
       "      <td>0</td>\n",
       "      <td>-0.929049</td>\n",
       "      <td>2.855627</td>\n",
       "      <td>2.790152</td>\n",
       "      <td>1.096669</td>\n",
       "      <td>0</td>\n",
       "      <td>0</td>\n",
       "      <td>0</td>\n",
       "      <td>1</td>\n",
       "      <td>0</td>\n",
       "      <td>1</td>\n",
       "      <td>0</td>\n",
       "      <td>1</td>\n",
       "    </tr>\n",
       "    <tr>\n",
       "      <th>...</th>\n",
       "      <td>...</td>\n",
       "      <td>...</td>\n",
       "      <td>...</td>\n",
       "      <td>...</td>\n",
       "      <td>...</td>\n",
       "      <td>...</td>\n",
       "      <td>...</td>\n",
       "      <td>...</td>\n",
       "      <td>...</td>\n",
       "      <td>...</td>\n",
       "      <td>...</td>\n",
       "      <td>...</td>\n",
       "      <td>...</td>\n",
       "      <td>...</td>\n",
       "    </tr>\n",
       "    <tr>\n",
       "      <th>504</th>\n",
       "      <td>0</td>\n",
       "      <td>0</td>\n",
       "      <td>0.697107</td>\n",
       "      <td>1.191083</td>\n",
       "      <td>-0.318613</td>\n",
       "      <td>-0.183617</td>\n",
       "      <td>0</td>\n",
       "      <td>0</td>\n",
       "      <td>0</td>\n",
       "      <td>0</td>\n",
       "      <td>0</td>\n",
       "      <td>0</td>\n",
       "      <td>1</td>\n",
       "      <td>0</td>\n",
       "    </tr>\n",
       "    <tr>\n",
       "      <th>505</th>\n",
       "      <td>0</td>\n",
       "      <td>0</td>\n",
       "      <td>-0.712229</td>\n",
       "      <td>-0.806369</td>\n",
       "      <td>-0.318613</td>\n",
       "      <td>-0.183617</td>\n",
       "      <td>0</td>\n",
       "      <td>0</td>\n",
       "      <td>0</td>\n",
       "      <td>0</td>\n",
       "      <td>0</td>\n",
       "      <td>0</td>\n",
       "      <td>1</td>\n",
       "      <td>0</td>\n",
       "    </tr>\n",
       "    <tr>\n",
       "      <th>506</th>\n",
       "      <td>0</td>\n",
       "      <td>0</td>\n",
       "      <td>1.564390</td>\n",
       "      <td>-0.125419</td>\n",
       "      <td>-0.318613</td>\n",
       "      <td>-0.183617</td>\n",
       "      <td>0</td>\n",
       "      <td>0</td>\n",
       "      <td>0</td>\n",
       "      <td>0</td>\n",
       "      <td>0</td>\n",
       "      <td>0</td>\n",
       "      <td>1</td>\n",
       "      <td>0</td>\n",
       "    </tr>\n",
       "    <tr>\n",
       "      <th>507</th>\n",
       "      <td>0</td>\n",
       "      <td>0</td>\n",
       "      <td>0.371875</td>\n",
       "      <td>-0.624782</td>\n",
       "      <td>-0.318613</td>\n",
       "      <td>-0.183617</td>\n",
       "      <td>0</td>\n",
       "      <td>0</td>\n",
       "      <td>0</td>\n",
       "      <td>0</td>\n",
       "      <td>0</td>\n",
       "      <td>0</td>\n",
       "      <td>1</td>\n",
       "      <td>0</td>\n",
       "    </tr>\n",
       "    <tr>\n",
       "      <th>508</th>\n",
       "      <td>0</td>\n",
       "      <td>0</td>\n",
       "      <td>0.046644</td>\n",
       "      <td>-0.806369</td>\n",
       "      <td>-0.318613</td>\n",
       "      <td>-0.183617</td>\n",
       "      <td>0</td>\n",
       "      <td>0</td>\n",
       "      <td>0</td>\n",
       "      <td>0</td>\n",
       "      <td>0</td>\n",
       "      <td>0</td>\n",
       "      <td>1</td>\n",
       "      <td>0</td>\n",
       "    </tr>\n",
       "  </tbody>\n",
       "</table>\n",
       "<p>509 rows × 14 columns</p>\n",
       "</div>"
      ],
      "text/plain": [
       "     FIEBRE  ITU  EDAD_norm  PSA_norm  NUMERO_DE_MUESTRAS_TOMADAS_norm  \\\n",
       "0         1    0  -1.145870 -0.927426                        -0.318613   \n",
       "1         1    0  -0.820639 -0.367534                        -0.318613   \n",
       "2         1    0  -0.712229  2.855627                         2.790152   \n",
       "3         1    0  -0.820639 -0.473460                        -0.318613   \n",
       "4         1    0  -0.929049  2.855627                         2.790152   \n",
       "..      ...  ...        ...       ...                              ...   \n",
       "504       0    0   0.697107  1.191083                        -0.318613   \n",
       "505       0    0  -0.712229 -0.806369                        -0.318613   \n",
       "506       0    0   1.564390 -0.125419                        -0.318613   \n",
       "507       0    0   0.371875 -0.624782                        -0.318613   \n",
       "508       0    0   0.046644 -0.806369                        -0.318613   \n",
       "\n",
       "     NUMERO_DE_DIAS_POST_BIOPSIA_norm  \\\n",
       "0                            1.096669   \n",
       "1                            1.096669   \n",
       "2                            1.096669   \n",
       "3                            1.096669   \n",
       "4                            1.096669   \n",
       "..                                ...   \n",
       "504                         -0.183617   \n",
       "505                         -0.183617   \n",
       "506                         -0.183617   \n",
       "507                         -0.183617   \n",
       "508                         -0.183617   \n",
       "\n",
       "     Patron de Resistencia_ AMPI R, CIPRO R, GENTA R, SULFA M R  \\\n",
       "0                                                    0            \n",
       "1                                                    0            \n",
       "2                                                    1            \n",
       "3                                                    0            \n",
       "4                                                    0            \n",
       "..                                                 ...            \n",
       "504                                                  0            \n",
       "505                                                  0            \n",
       "506                                                  0            \n",
       "507                                                  0            \n",
       "508                                                  0            \n",
       "\n",
       "     Patron de Resistencia_MULTI SENSIBLE  \\\n",
       "0                                       0   \n",
       "1                                       0   \n",
       "2                                       0   \n",
       "3                                       0   \n",
       "4                                       0   \n",
       "..                                    ...   \n",
       "504                                     0   \n",
       "505                                     0   \n",
       "506                                     0   \n",
       "507                                     0   \n",
       "508                                     0   \n",
       "\n",
       "     Patron de Resistencia_RESISTENTE A AMPI, CIPRO Y GENTA  \\\n",
       "0                                                    0        \n",
       "1                                                    0        \n",
       "2                                                    0        \n",
       "3                                                    0        \n",
       "4                                                    0        \n",
       "..                                                 ...        \n",
       "504                                                  0        \n",
       "505                                                  0        \n",
       "506                                                  0        \n",
       "507                                                  0        \n",
       "508                                                  0        \n",
       "\n",
       "     Tipo de Cultivo_HEMOCULTIVO  Tipo de Cultivo_HEMOCULTIVO Y UROCULTIVO  \\\n",
       "0                              0                                         0   \n",
       "1                              0                                         0   \n",
       "2                              1                                         0   \n",
       "3                              0                                         0   \n",
       "4                              1                                         0   \n",
       "..                           ...                                       ...   \n",
       "504                            0                                         0   \n",
       "505                            0                                         0   \n",
       "506                            0                                         0   \n",
       "507                            0                                         0   \n",
       "508                            0                                         0   \n",
       "\n",
       "     Agente Aislado_E.COLI  Agente Aislado_NO  HOSPITALIZACION  \n",
       "0                        0                  1                1  \n",
       "1                        0                  1                1  \n",
       "2                        1                  0                1  \n",
       "3                        0                  1                1  \n",
       "4                        1                  0                1  \n",
       "..                     ...                ...              ...  \n",
       "504                      0                  1                0  \n",
       "505                      0                  1                0  \n",
       "506                      0                  1                0  \n",
       "507                      0                  1                0  \n",
       "508                      0                  1                0  \n",
       "\n",
       "[509 rows x 14 columns]"
      ]
     },
     "execution_count": 3,
     "metadata": {},
     "output_type": "execute_result"
    }
   ],
   "source": [
    "# Muevo la columna 'HOSPITALIZACION' al final \n",
    "columna = df.pop('HOSPITALIZACION') \n",
    "df.insert(len(df.columns), 'HOSPITALIZACION', columna)\n",
    " \n",
    "df"
   ]
  },
  {
   "cell_type": "code",
   "execution_count": 4,
   "metadata": {},
   "outputs": [],
   "source": [
    "X = df.iloc[:,:-1].values # Obtenemos los valores de todas las columnas menos \"HOSPITALIZACION\"\n",
    "\n",
    "y = df.iloc[:, -1].values # Obtenemos los valores de \"HOSPITALIZACION\""
   ]
  },
  {
   "cell_type": "markdown",
   "metadata": {
    "id": "mTV2RdmbMoRE"
   },
   "source": [
    "Separen el dataset en X_train, X_test, y_train y y_test"
   ]
  },
  {
   "cell_type": "code",
   "execution_count": 5,
   "metadata": {},
   "outputs": [
    {
     "data": {
      "text/plain": [
       "(509, 13)"
      ]
     },
     "execution_count": 5,
     "metadata": {},
     "output_type": "execute_result"
    }
   ],
   "source": [
    "X.shape"
   ]
  },
  {
   "cell_type": "code",
   "execution_count": 72,
   "metadata": {
    "id": "ILzt6oOaM1ag"
   },
   "outputs": [
    {
     "name": "stdout",
     "output_type": "stream",
     "text": [
      "(305, 13) (305,) (204, 13) (204,)\n"
     ]
    }
   ],
   "source": [
    "from sklearn.model_selection import train_test_split\n",
    "\n",
    "X_train, X_test, y_train, y_test = train_test_split(X, y, test_size=0.40, random_state=42)\n",
    "\n",
    "print(X_train.shape, y_train.shape, X_test.shape, y_test.shape)"
   ]
  },
  {
   "cell_type": "code",
   "execution_count": 73,
   "metadata": {},
   "outputs": [
    {
     "name": "stdout",
     "output_type": "stream",
     "text": [
      "Distribución original de clases: [295  10]\n",
      "Distribución después de SMOTE: [295 295]\n"
     ]
    }
   ],
   "source": [
    "from imblearn.over_sampling import SMOTE #Aplico SMOTE para balancear las clases en el conjunto de entrenamiento ya que estan muy desbalanceadas\n",
    "\n",
    "smote = SMOTE(random_state=42)\n",
    "X_train_resampled, y_train_resampled = smote.fit_resample(X_train, y_train)\n",
    "\n",
    "# Verifico las nuevas distribuciones de clases\n",
    "print(f\"Distribución original de clases: {np.bincount(y_train)}\")\n",
    "print(f\"Distribución después de SMOTE: {np.bincount(y_train_resampled)}\")\n"
   ]
  },
  {
   "cell_type": "markdown",
   "metadata": {
    "id": "zyQIaY1bM12g"
   },
   "source": [
    "Instancien, entrenen y predigan sobre un árbol de decisión asignando una profundidad máxima arbitraria"
   ]
  },
  {
   "cell_type": "code",
   "execution_count": 74,
   "metadata": {
    "id": "HO3Db1YQM9JS"
   },
   "outputs": [
    {
     "data": {
      "text/html": [
       "<style>#sk-container-id-7 {\n",
       "  /* Definition of color scheme common for light and dark mode */\n",
       "  --sklearn-color-text: black;\n",
       "  --sklearn-color-line: gray;\n",
       "  /* Definition of color scheme for unfitted estimators */\n",
       "  --sklearn-color-unfitted-level-0: #fff5e6;\n",
       "  --sklearn-color-unfitted-level-1: #f6e4d2;\n",
       "  --sklearn-color-unfitted-level-2: #ffe0b3;\n",
       "  --sklearn-color-unfitted-level-3: chocolate;\n",
       "  /* Definition of color scheme for fitted estimators */\n",
       "  --sklearn-color-fitted-level-0: #f0f8ff;\n",
       "  --sklearn-color-fitted-level-1: #d4ebff;\n",
       "  --sklearn-color-fitted-level-2: #b3dbfd;\n",
       "  --sklearn-color-fitted-level-3: cornflowerblue;\n",
       "\n",
       "  /* Specific color for light theme */\n",
       "  --sklearn-color-text-on-default-background: var(--sg-text-color, var(--theme-code-foreground, var(--jp-content-font-color1, black)));\n",
       "  --sklearn-color-background: var(--sg-background-color, var(--theme-background, var(--jp-layout-color0, white)));\n",
       "  --sklearn-color-border-box: var(--sg-text-color, var(--theme-code-foreground, var(--jp-content-font-color1, black)));\n",
       "  --sklearn-color-icon: #696969;\n",
       "\n",
       "  @media (prefers-color-scheme: dark) {\n",
       "    /* Redefinition of color scheme for dark theme */\n",
       "    --sklearn-color-text-on-default-background: var(--sg-text-color, var(--theme-code-foreground, var(--jp-content-font-color1, white)));\n",
       "    --sklearn-color-background: var(--sg-background-color, var(--theme-background, var(--jp-layout-color0, #111)));\n",
       "    --sklearn-color-border-box: var(--sg-text-color, var(--theme-code-foreground, var(--jp-content-font-color1, white)));\n",
       "    --sklearn-color-icon: #878787;\n",
       "  }\n",
       "}\n",
       "\n",
       "#sk-container-id-7 {\n",
       "  color: var(--sklearn-color-text);\n",
       "}\n",
       "\n",
       "#sk-container-id-7 pre {\n",
       "  padding: 0;\n",
       "}\n",
       "\n",
       "#sk-container-id-7 input.sk-hidden--visually {\n",
       "  border: 0;\n",
       "  clip: rect(1px 1px 1px 1px);\n",
       "  clip: rect(1px, 1px, 1px, 1px);\n",
       "  height: 1px;\n",
       "  margin: -1px;\n",
       "  overflow: hidden;\n",
       "  padding: 0;\n",
       "  position: absolute;\n",
       "  width: 1px;\n",
       "}\n",
       "\n",
       "#sk-container-id-7 div.sk-dashed-wrapped {\n",
       "  border: 1px dashed var(--sklearn-color-line);\n",
       "  margin: 0 0.4em 0.5em 0.4em;\n",
       "  box-sizing: border-box;\n",
       "  padding-bottom: 0.4em;\n",
       "  background-color: var(--sklearn-color-background);\n",
       "}\n",
       "\n",
       "#sk-container-id-7 div.sk-container {\n",
       "  /* jupyter's `normalize.less` sets `[hidden] { display: none; }`\n",
       "     but bootstrap.min.css set `[hidden] { display: none !important; }`\n",
       "     so we also need the `!important` here to be able to override the\n",
       "     default hidden behavior on the sphinx rendered scikit-learn.org.\n",
       "     See: https://github.com/scikit-learn/scikit-learn/issues/21755 */\n",
       "  display: inline-block !important;\n",
       "  position: relative;\n",
       "}\n",
       "\n",
       "#sk-container-id-7 div.sk-text-repr-fallback {\n",
       "  display: none;\n",
       "}\n",
       "\n",
       "div.sk-parallel-item,\n",
       "div.sk-serial,\n",
       "div.sk-item {\n",
       "  /* draw centered vertical line to link estimators */\n",
       "  background-image: linear-gradient(var(--sklearn-color-text-on-default-background), var(--sklearn-color-text-on-default-background));\n",
       "  background-size: 2px 100%;\n",
       "  background-repeat: no-repeat;\n",
       "  background-position: center center;\n",
       "}\n",
       "\n",
       "/* Parallel-specific style estimator block */\n",
       "\n",
       "#sk-container-id-7 div.sk-parallel-item::after {\n",
       "  content: \"\";\n",
       "  width: 100%;\n",
       "  border-bottom: 2px solid var(--sklearn-color-text-on-default-background);\n",
       "  flex-grow: 1;\n",
       "}\n",
       "\n",
       "#sk-container-id-7 div.sk-parallel {\n",
       "  display: flex;\n",
       "  align-items: stretch;\n",
       "  justify-content: center;\n",
       "  background-color: var(--sklearn-color-background);\n",
       "  position: relative;\n",
       "}\n",
       "\n",
       "#sk-container-id-7 div.sk-parallel-item {\n",
       "  display: flex;\n",
       "  flex-direction: column;\n",
       "}\n",
       "\n",
       "#sk-container-id-7 div.sk-parallel-item:first-child::after {\n",
       "  align-self: flex-end;\n",
       "  width: 50%;\n",
       "}\n",
       "\n",
       "#sk-container-id-7 div.sk-parallel-item:last-child::after {\n",
       "  align-self: flex-start;\n",
       "  width: 50%;\n",
       "}\n",
       "\n",
       "#sk-container-id-7 div.sk-parallel-item:only-child::after {\n",
       "  width: 0;\n",
       "}\n",
       "\n",
       "/* Serial-specific style estimator block */\n",
       "\n",
       "#sk-container-id-7 div.sk-serial {\n",
       "  display: flex;\n",
       "  flex-direction: column;\n",
       "  align-items: center;\n",
       "  background-color: var(--sklearn-color-background);\n",
       "  padding-right: 1em;\n",
       "  padding-left: 1em;\n",
       "}\n",
       "\n",
       "\n",
       "/* Toggleable style: style used for estimator/Pipeline/ColumnTransformer box that is\n",
       "clickable and can be expanded/collapsed.\n",
       "- Pipeline and ColumnTransformer use this feature and define the default style\n",
       "- Estimators will overwrite some part of the style using the `sk-estimator` class\n",
       "*/\n",
       "\n",
       "/* Pipeline and ColumnTransformer style (default) */\n",
       "\n",
       "#sk-container-id-7 div.sk-toggleable {\n",
       "  /* Default theme specific background. It is overwritten whether we have a\n",
       "  specific estimator or a Pipeline/ColumnTransformer */\n",
       "  background-color: var(--sklearn-color-background);\n",
       "}\n",
       "\n",
       "/* Toggleable label */\n",
       "#sk-container-id-7 label.sk-toggleable__label {\n",
       "  cursor: pointer;\n",
       "  display: block;\n",
       "  width: 100%;\n",
       "  margin-bottom: 0;\n",
       "  padding: 0.5em;\n",
       "  box-sizing: border-box;\n",
       "  text-align: center;\n",
       "}\n",
       "\n",
       "#sk-container-id-7 label.sk-toggleable__label-arrow:before {\n",
       "  /* Arrow on the left of the label */\n",
       "  content: \"▸\";\n",
       "  float: left;\n",
       "  margin-right: 0.25em;\n",
       "  color: var(--sklearn-color-icon);\n",
       "}\n",
       "\n",
       "#sk-container-id-7 label.sk-toggleable__label-arrow:hover:before {\n",
       "  color: var(--sklearn-color-text);\n",
       "}\n",
       "\n",
       "/* Toggleable content - dropdown */\n",
       "\n",
       "#sk-container-id-7 div.sk-toggleable__content {\n",
       "  max-height: 0;\n",
       "  max-width: 0;\n",
       "  overflow: hidden;\n",
       "  text-align: left;\n",
       "  /* unfitted */\n",
       "  background-color: var(--sklearn-color-unfitted-level-0);\n",
       "}\n",
       "\n",
       "#sk-container-id-7 div.sk-toggleable__content.fitted {\n",
       "  /* fitted */\n",
       "  background-color: var(--sklearn-color-fitted-level-0);\n",
       "}\n",
       "\n",
       "#sk-container-id-7 div.sk-toggleable__content pre {\n",
       "  margin: 0.2em;\n",
       "  border-radius: 0.25em;\n",
       "  color: var(--sklearn-color-text);\n",
       "  /* unfitted */\n",
       "  background-color: var(--sklearn-color-unfitted-level-0);\n",
       "}\n",
       "\n",
       "#sk-container-id-7 div.sk-toggleable__content.fitted pre {\n",
       "  /* unfitted */\n",
       "  background-color: var(--sklearn-color-fitted-level-0);\n",
       "}\n",
       "\n",
       "#sk-container-id-7 input.sk-toggleable__control:checked~div.sk-toggleable__content {\n",
       "  /* Expand drop-down */\n",
       "  max-height: 200px;\n",
       "  max-width: 100%;\n",
       "  overflow: auto;\n",
       "}\n",
       "\n",
       "#sk-container-id-7 input.sk-toggleable__control:checked~label.sk-toggleable__label-arrow:before {\n",
       "  content: \"▾\";\n",
       "}\n",
       "\n",
       "/* Pipeline/ColumnTransformer-specific style */\n",
       "\n",
       "#sk-container-id-7 div.sk-label input.sk-toggleable__control:checked~label.sk-toggleable__label {\n",
       "  color: var(--sklearn-color-text);\n",
       "  background-color: var(--sklearn-color-unfitted-level-2);\n",
       "}\n",
       "\n",
       "#sk-container-id-7 div.sk-label.fitted input.sk-toggleable__control:checked~label.sk-toggleable__label {\n",
       "  background-color: var(--sklearn-color-fitted-level-2);\n",
       "}\n",
       "\n",
       "/* Estimator-specific style */\n",
       "\n",
       "/* Colorize estimator box */\n",
       "#sk-container-id-7 div.sk-estimator input.sk-toggleable__control:checked~label.sk-toggleable__label {\n",
       "  /* unfitted */\n",
       "  background-color: var(--sklearn-color-unfitted-level-2);\n",
       "}\n",
       "\n",
       "#sk-container-id-7 div.sk-estimator.fitted input.sk-toggleable__control:checked~label.sk-toggleable__label {\n",
       "  /* fitted */\n",
       "  background-color: var(--sklearn-color-fitted-level-2);\n",
       "}\n",
       "\n",
       "#sk-container-id-7 div.sk-label label.sk-toggleable__label,\n",
       "#sk-container-id-7 div.sk-label label {\n",
       "  /* The background is the default theme color */\n",
       "  color: var(--sklearn-color-text-on-default-background);\n",
       "}\n",
       "\n",
       "/* On hover, darken the color of the background */\n",
       "#sk-container-id-7 div.sk-label:hover label.sk-toggleable__label {\n",
       "  color: var(--sklearn-color-text);\n",
       "  background-color: var(--sklearn-color-unfitted-level-2);\n",
       "}\n",
       "\n",
       "/* Label box, darken color on hover, fitted */\n",
       "#sk-container-id-7 div.sk-label.fitted:hover label.sk-toggleable__label.fitted {\n",
       "  color: var(--sklearn-color-text);\n",
       "  background-color: var(--sklearn-color-fitted-level-2);\n",
       "}\n",
       "\n",
       "/* Estimator label */\n",
       "\n",
       "#sk-container-id-7 div.sk-label label {\n",
       "  font-family: monospace;\n",
       "  font-weight: bold;\n",
       "  display: inline-block;\n",
       "  line-height: 1.2em;\n",
       "}\n",
       "\n",
       "#sk-container-id-7 div.sk-label-container {\n",
       "  text-align: center;\n",
       "}\n",
       "\n",
       "/* Estimator-specific */\n",
       "#sk-container-id-7 div.sk-estimator {\n",
       "  font-family: monospace;\n",
       "  border: 1px dotted var(--sklearn-color-border-box);\n",
       "  border-radius: 0.25em;\n",
       "  box-sizing: border-box;\n",
       "  margin-bottom: 0.5em;\n",
       "  /* unfitted */\n",
       "  background-color: var(--sklearn-color-unfitted-level-0);\n",
       "}\n",
       "\n",
       "#sk-container-id-7 div.sk-estimator.fitted {\n",
       "  /* fitted */\n",
       "  background-color: var(--sklearn-color-fitted-level-0);\n",
       "}\n",
       "\n",
       "/* on hover */\n",
       "#sk-container-id-7 div.sk-estimator:hover {\n",
       "  /* unfitted */\n",
       "  background-color: var(--sklearn-color-unfitted-level-2);\n",
       "}\n",
       "\n",
       "#sk-container-id-7 div.sk-estimator.fitted:hover {\n",
       "  /* fitted */\n",
       "  background-color: var(--sklearn-color-fitted-level-2);\n",
       "}\n",
       "\n",
       "/* Specification for estimator info (e.g. \"i\" and \"?\") */\n",
       "\n",
       "/* Common style for \"i\" and \"?\" */\n",
       "\n",
       ".sk-estimator-doc-link,\n",
       "a:link.sk-estimator-doc-link,\n",
       "a:visited.sk-estimator-doc-link {\n",
       "  float: right;\n",
       "  font-size: smaller;\n",
       "  line-height: 1em;\n",
       "  font-family: monospace;\n",
       "  background-color: var(--sklearn-color-background);\n",
       "  border-radius: 1em;\n",
       "  height: 1em;\n",
       "  width: 1em;\n",
       "  text-decoration: none !important;\n",
       "  margin-left: 1ex;\n",
       "  /* unfitted */\n",
       "  border: var(--sklearn-color-unfitted-level-1) 1pt solid;\n",
       "  color: var(--sklearn-color-unfitted-level-1);\n",
       "}\n",
       "\n",
       ".sk-estimator-doc-link.fitted,\n",
       "a:link.sk-estimator-doc-link.fitted,\n",
       "a:visited.sk-estimator-doc-link.fitted {\n",
       "  /* fitted */\n",
       "  border: var(--sklearn-color-fitted-level-1) 1pt solid;\n",
       "  color: var(--sklearn-color-fitted-level-1);\n",
       "}\n",
       "\n",
       "/* On hover */\n",
       "div.sk-estimator:hover .sk-estimator-doc-link:hover,\n",
       ".sk-estimator-doc-link:hover,\n",
       "div.sk-label-container:hover .sk-estimator-doc-link:hover,\n",
       ".sk-estimator-doc-link:hover {\n",
       "  /* unfitted */\n",
       "  background-color: var(--sklearn-color-unfitted-level-3);\n",
       "  color: var(--sklearn-color-background);\n",
       "  text-decoration: none;\n",
       "}\n",
       "\n",
       "div.sk-estimator.fitted:hover .sk-estimator-doc-link.fitted:hover,\n",
       ".sk-estimator-doc-link.fitted:hover,\n",
       "div.sk-label-container:hover .sk-estimator-doc-link.fitted:hover,\n",
       ".sk-estimator-doc-link.fitted:hover {\n",
       "  /* fitted */\n",
       "  background-color: var(--sklearn-color-fitted-level-3);\n",
       "  color: var(--sklearn-color-background);\n",
       "  text-decoration: none;\n",
       "}\n",
       "\n",
       "/* Span, style for the box shown on hovering the info icon */\n",
       ".sk-estimator-doc-link span {\n",
       "  display: none;\n",
       "  z-index: 9999;\n",
       "  position: relative;\n",
       "  font-weight: normal;\n",
       "  right: .2ex;\n",
       "  padding: .5ex;\n",
       "  margin: .5ex;\n",
       "  width: min-content;\n",
       "  min-width: 20ex;\n",
       "  max-width: 50ex;\n",
       "  color: var(--sklearn-color-text);\n",
       "  box-shadow: 2pt 2pt 4pt #999;\n",
       "  /* unfitted */\n",
       "  background: var(--sklearn-color-unfitted-level-0);\n",
       "  border: .5pt solid var(--sklearn-color-unfitted-level-3);\n",
       "}\n",
       "\n",
       ".sk-estimator-doc-link.fitted span {\n",
       "  /* fitted */\n",
       "  background: var(--sklearn-color-fitted-level-0);\n",
       "  border: var(--sklearn-color-fitted-level-3);\n",
       "}\n",
       "\n",
       ".sk-estimator-doc-link:hover span {\n",
       "  display: block;\n",
       "}\n",
       "\n",
       "/* \"?\"-specific style due to the `<a>` HTML tag */\n",
       "\n",
       "#sk-container-id-7 a.estimator_doc_link {\n",
       "  float: right;\n",
       "  font-size: 1rem;\n",
       "  line-height: 1em;\n",
       "  font-family: monospace;\n",
       "  background-color: var(--sklearn-color-background);\n",
       "  border-radius: 1rem;\n",
       "  height: 1rem;\n",
       "  width: 1rem;\n",
       "  text-decoration: none;\n",
       "  /* unfitted */\n",
       "  color: var(--sklearn-color-unfitted-level-1);\n",
       "  border: var(--sklearn-color-unfitted-level-1) 1pt solid;\n",
       "}\n",
       "\n",
       "#sk-container-id-7 a.estimator_doc_link.fitted {\n",
       "  /* fitted */\n",
       "  border: var(--sklearn-color-fitted-level-1) 1pt solid;\n",
       "  color: var(--sklearn-color-fitted-level-1);\n",
       "}\n",
       "\n",
       "/* On hover */\n",
       "#sk-container-id-7 a.estimator_doc_link:hover {\n",
       "  /* unfitted */\n",
       "  background-color: var(--sklearn-color-unfitted-level-3);\n",
       "  color: var(--sklearn-color-background);\n",
       "  text-decoration: none;\n",
       "}\n",
       "\n",
       "#sk-container-id-7 a.estimator_doc_link.fitted:hover {\n",
       "  /* fitted */\n",
       "  background-color: var(--sklearn-color-fitted-level-3);\n",
       "}\n",
       "</style><div id=\"sk-container-id-7\" class=\"sk-top-container\"><div class=\"sk-text-repr-fallback\"><pre>DecisionTreeClassifier(max_depth=4, random_state=42)</pre><b>In a Jupyter environment, please rerun this cell to show the HTML representation or trust the notebook. <br />On GitHub, the HTML representation is unable to render, please try loading this page with nbviewer.org.</b></div><div class=\"sk-container\" hidden><div class=\"sk-item\"><div class=\"sk-estimator fitted sk-toggleable\"><input class=\"sk-toggleable__control sk-hidden--visually\" id=\"sk-estimator-id-7\" type=\"checkbox\" checked><label for=\"sk-estimator-id-7\" class=\"sk-toggleable__label fitted sk-toggleable__label-arrow fitted\">&nbsp;&nbsp;DecisionTreeClassifier<a class=\"sk-estimator-doc-link fitted\" rel=\"noreferrer\" target=\"_blank\" href=\"https://scikit-learn.org/1.5/modules/generated/sklearn.tree.DecisionTreeClassifier.html\">?<span>Documentation for DecisionTreeClassifier</span></a><span class=\"sk-estimator-doc-link fitted\">i<span>Fitted</span></span></label><div class=\"sk-toggleable__content fitted\"><pre>DecisionTreeClassifier(max_depth=4, random_state=42)</pre></div> </div></div></div></div>"
      ],
      "text/plain": [
       "DecisionTreeClassifier(max_depth=4, random_state=42)"
      ]
     },
     "execution_count": 74,
     "metadata": {},
     "output_type": "execute_result"
    }
   ],
   "source": [
    "from sklearn.tree import DecisionTreeClassifier\n",
    "\n",
    "classifier = DecisionTreeClassifier(criterion = 'gini', random_state = 42, max_depth=4) #Instanciamos\n",
    "\n",
    "classifier.fit(X_train_resampled, y_train_resampled) #Entrenamos"
   ]
  },
  {
   "cell_type": "code",
   "execution_count": 75,
   "metadata": {},
   "outputs": [],
   "source": [
    "# Predecimos sobre nuestro set de testeo\n",
    "y_pred = classifier.predict(X_test)"
   ]
  },
  {
   "cell_type": "markdown",
   "metadata": {
    "id": "HAZhxOMyNFON"
   },
   "source": [
    "Realicen la matriz de confusión para este modelo. Se recomienda utilizar mapa de calor para la visualización. "
   ]
  },
  {
   "cell_type": "code",
   "execution_count": 76,
   "metadata": {
    "id": "_GpXEa1oNQfG"
   },
   "outputs": [],
   "source": [
    "from sklearn.metrics import confusion_matrix\n",
    "matrix_test = confusion_matrix(y_test, y_pred)"
   ]
  },
  {
   "cell_type": "code",
   "execution_count": 77,
   "metadata": {},
   "outputs": [
    {
     "data": {
      "image/png": "[encoded data removed]",
      "text/plain": [
       "<Figure size 800x600 with 2 Axes>"
      ]
     },
     "metadata": {},
     "output_type": "display_data"
    }
   ],
   "source": [
    "# Visualizar la matriz de confusión usando seaborn\n",
    "plt.figure(figsize=(8, 6))\n",
    "sns.heatmap(matrix_test, annot=True, fmt='d', cmap='coolwarm', xticklabels=['Predicho 0', 'Predicho 1'], yticklabels=['Verdadero 0', 'Verdadero 1'])\n",
    "plt.xlabel('Etiqueta Predicha')\n",
    "plt.ylabel('Etiqueta Verdadera')\n",
    "plt.title('Matriz de Confusión')\n",
    "plt.show()\n"
   ]
  },
  {
   "cell_type": "code",
   "execution_count": 78,
   "metadata": {},
   "outputs": [
    {
     "data": {
      "image/png": "[encoded data removed]",
      "text/plain": [
       "<Figure size 500x500 with 1 Axes>"
      ]
     },
     "metadata": {},
     "output_type": "display_data"
    }
   ],
   "source": [
    "from sklearn import tree\n",
    "import matplotlib.pyplot as plt\n",
    "plt.figure(figsize=(5,5))\n",
    "tree.plot_tree(classifier, filled=True)\n",
    "plt.show()"
   ]
  },
  {
   "cell_type": "markdown",
   "metadata": {
    "id": "CmRUpq9FMcsi"
   },
   "source": [
    "Seleccione tres métricas de evaluación para este modelo de clasificación y describa el significado de cada una de ellas para el modelo creado."
   ]
  },
  {
   "cell_type": "markdown",
   "metadata": {},
   "source": [
    "accuracy_score:\n",
    "Calcula la proporción de predicciones correctas sobre el total de predicciones. Esto indica qué tan frecuentemente el modelo acierta en sus predicciones en general.\n",
    "\n",
    "f1_score:\n",
    "Calcula la media armónica entre la precisión y el recall. Es particularmente útil en este caso de clases desbalanceadas, ya que proporciona una medida más equilibrada del rendimiento.\n",
    "\n",
    "roc_auc_score:\n",
    "Calcula el área bajo la curva ROC, que es una métrica agregada considerando todas las posibles predicciones. Un valor alto de AUC-ROC (cercano a 1) indica un excelente rendimiento del modelo, mientras que un valor cercano a 0.5 sugiere un rendimiento comparable al azar."
   ]
  },
  {
   "cell_type": "code",
   "execution_count": 79,
   "metadata": {
    "id": "xSSe-ZHpMmdz"
   },
   "outputs": [
    {
     "name": "stdout",
     "output_type": "stream",
     "text": [
      "Precisión: 0.99\n",
      "Puntaje F1: 0.93\n"
     ]
    }
   ],
   "source": [
    "from sklearn.metrics import accuracy_score, f1_score\n",
    "\n",
    "# Calcular la precisión\n",
    "accuracy = accuracy_score(y_test, y_pred)\n",
    "print(f'Precisión: {accuracy:.2f}')\n",
    "\n",
    "# Calcular el puntaje F1\n",
    "f1 = f1_score(y_test, y_pred)\n",
    "print(f'Puntaje F1: {f1:.2f}')\n"
   ]
  },
  {
   "cell_type": "code",
   "execution_count": 80,
   "metadata": {},
   "outputs": [
    {
     "name": "stdout",
     "output_type": "stream",
     "text": [
      "AUC-ROC: 0.99\n"
     ]
    }
   ],
   "source": [
    "from sklearn.metrics import roc_auc_score\n",
    "\n",
    "#Calculamos las probabilidades para la clase positiva (habitualmente etiquetada como '1') en la métrica AUC-ROC porque esta métrica evalúa el rendimiento del modelo en términos\n",
    "#de su capacidad para distinguir entre las clases positiva y negativa en diferentes umbrales de decisión.\n",
    "\n",
    "y_prob = classifier.predict_proba(X_test)[:, 1]  # Probabilidades para la clase positiva\n",
    "\n",
    "# Calculo el AUC-ROC\n",
    "auc_roc = roc_auc_score(y_test, y_prob)\n",
    "print(f'AUC-ROC: {auc_roc:.2f}')"
   ]
  },
  {
   "cell_type": "markdown",
   "metadata": {
    "id": "b_u-bC8FNTkT"
   },
   "source": [
    "Realice un diagrama de la importancia de cada variable respecto a la clasificación de la variable objetivo"
   ]
  },
  {
   "cell_type": "code",
   "execution_count": 81,
   "metadata": {},
   "outputs": [
    {
     "name": "stdout",
     "output_type": "stream",
     "text": [
      "Importancias de las características: [0. 0. 0. 0. 0. 1. 0. 0. 0. 0. 0. 0. 0.]\n"
     ]
    }
   ],
   "source": [
    "# Obtener las importancias de las características\n",
    "importancia = classifier.feature_importances_\n",
    "print(f'Importancias de las características: {importancia}')"
   ]
  },
  {
   "cell_type": "code",
   "execution_count": 69,
   "metadata": {
    "id": "I9w7a6dXNYPz"
   },
   "outputs": [
    {
     "data": {
      "image/png": "[encoded data removed]",
      "text/plain": [
       "<Figure size 1000x600 with 1 Axes>"
      ]
     },
     "metadata": {},
     "output_type": "display_data"
    }
   ],
   "source": [
    "# Crear un gráfico de barras para visualizar la importancia de las características\n",
    "nombre_caracteristica = ['FIEBRE', 'ITU', 'HOSPITALIZACION', 'EDAD_norm','PSA_norm','NUMERO_DE_MUESTRAS_TOMADAS_norm', 'NUMERO_DE_DIAS_POST_BIOPSIA_norm',\n",
    "'Patron de Resistencia_ AMPI R, CIPRO R, GENTA R, SULFA M R', 'Patron de Resistencia_MULTI SENSIBLE','Patron de Resistencia_RESISTENTE A AMPI, CIPRO Y GENTA',\n",
    "'Tipo de Cultivo_HEMOCULTIVO','Tipo de Cultivo_HEMOCULTIVO Y UROCULTIVO', 'Agente Aislado_E.COLI','Agente Aislado_NO']\n",
    "\n",
    "indices = np.argsort(importancia)\n",
    "\n",
    "plt.figure(figsize=(10, 6))\n",
    "plt.barh(range(len(importancia)), importancia[indices], align='center')\n",
    "plt.yticks(range(len(importancia)), [nombre_caracteristica[i] for i in indices])\n",
    "plt.xlabel('Importancia de la Característica')\n",
    "plt.title('Importancia de las Características en el Árbol de Decisión')\n",
    "plt.show()\n"
   ]
  },
  {
   "cell_type": "code",
   "execution_count": null,
   "metadata": {},
   "outputs": [],
   "source": [
    "#ALGO ESTA MAL!!. Llegué hasta acá sin resamplear las caracteristicas, resampleé y probé cambiando la distribución del split en 20, 30 y 40% y sigue todo igual."
   ]
  },
  {
   "cell_type": "code",
   "execution_count": 17,
   "metadata": {},
   "outputs": [
    {
     "name": "stdout",
     "output_type": "stream",
     "text": [
      "FIEBRE                                                        0.256620\n",
      "ITU                                                           0.108036\n",
      "EDAD_norm                                                     1.000984\n",
      "PSA_norm                                                      1.000984\n",
      "NUMERO_DE_MUESTRAS_TOMADAS_norm                               1.000984\n",
      "NUMERO_DE_DIAS_POST_BIOPSIA_norm                              1.000984\n",
      "Patron de Resistencia_ AMPI R, CIPRO R, GENTA R, SULFA M R    0.044324\n",
      "Patron de Resistencia_MULTI SENSIBLE                          0.062622\n",
      "Patron de Resistencia_RESISTENTE A AMPI, CIPRO Y GENTA        0.062622\n",
      "Tipo de Cultivo_HEMOCULTIVO                                   0.062622\n",
      "Tipo de Cultivo_HEMOCULTIVO Y UROCULTIVO                      0.062622\n",
      "Agente Aislado_E.COLI                                         0.108036\n",
      "Agente Aislado_NO                                             0.124501\n",
      "HOSPITALIZACION                                               0.207918\n",
      "dtype: float64\n"
     ]
    }
   ],
   "source": [
    "variability = df.std()\n",
    "print(variability)\n",
    "\n",
    "#La variabilidad me dice qué tanto varían los valores de cada característica en el dataset, es decir, la dispersión de los datos alrededor de la media para cada característica.\n",
    "\n",
    "#Alta Variabilidad: Una alta desviación estándar (std) significa que los valores de esa característica están muy dispersos.\n",
    "#Esto generalmente indica que la característica tiene valores diferentes y puede ser útil para el modelo porque contiene información relevante.\n",
    "\n",
    "#Baja Variabilidad: Una baja desviación estándar indica que los valores de esa característica están muy cercanos entre sí.\n",
    "#Esto podría significar que la característica no está proporcionando mucha información nueva al modelo, ya que casi todos los datos son similares."
   ]
  },
  {
   "cell_type": "code",
   "execution_count": null,
   "metadata": {},
   "outputs": [],
   "source": [
    "'''NO entiendo por qué, entonces, los valores que comienzan con 1 no figuran como importantes en el gráfico.'''"
   ]
  },
  {
   "cell_type": "code",
   "execution_count": null,
   "metadata": {},
   "outputs": [],
   "source": [
    "#También probé con un archivo sin tanto filtrado, cambiando entropia por gini, y modificando la profundidad del arbol dejando las caracteristicas redundantes y me pasa\n",
    "#los mismo con la misma caracteristica."
   ]
  },
  {
   "cell_type": "markdown",
   "metadata": {
    "id": "E3k9TEhuSU9i"
   },
   "source": [
    "Encuentre cuál sería un valor óptimo para el hiperparámetro **max_depth** para el árbol de decisión. Construya un modelo con este valor y compare las métricas de evaluación respecto al modelo creado con una profundidad arbitraria. "
   ]
  },
  {
   "cell_type": "code",
   "execution_count": 82,
   "metadata": {},
   "outputs": [
    {
     "name": "stdout",
     "output_type": "stream",
     "text": [
      "Mejor valor para max_depth: None\n",
      "Precisión del mejor modelo: 0.99\n"
     ]
    }
   ],
   "source": [
    "from sklearn.model_selection import GridSearchCV\n",
    "\n",
    "# Definir el grid de parámetros para `max_depth`\n",
    "param_grid = {'max_depth': [None, 1, 2, 3, 4, 5, 6, 7, 8, 9, 10]}\n",
    "\n",
    "# Configurar GridSearchCV\n",
    "grid_search = GridSearchCV(estimator=classifier, param_grid=param_grid, cv=5, scoring='accuracy')\n",
    "grid_search.fit(X_train_resampled, y_train_resampled)\n",
    "\n",
    "# Mejor modelo encontrado\n",
    "best_clf = grid_search.best_estimator_\n",
    "\n",
    "# Imprimir los mejores parámetros\n",
    "print(f\"Mejor valor para max_depth: {grid_search.best_params_['max_depth']}\")\n",
    "\n",
    "# Entrenar el mejor modelo y hacer predicciones\n",
    "best_clf.fit(X_train_resampled, y_train_resampled)\n",
    "y_pred = best_clf.predict(X_test)\n",
    "\n",
    "# Calcular y mostrar la precisión\n",
    "accuracy = accuracy_score(y_test, y_pred)\n",
    "print(f'Precisión del mejor modelo: {accuracy:.2f}')\n"
   ]
  },
  {
   "cell_type": "code",
   "execution_count": null,
   "metadata": {},
   "outputs": [],
   "source": [
    "#Siempre me da que el mejor valor de max_depth es el primero de la lista, es decir, si borro None, me da 1, si borro 1, me da 2 y así sucesivamente.\n",
    "\n",
    "#Grafico un ajuste del arbol de decisión"
   ]
  },
  {
   "cell_type": "code",
   "execution_count": 84,
   "metadata": {},
   "outputs": [
    {
     "data": {
      "image/png": "[encoded data removed]",
      "text/plain": [
       "<Figure size 1000x600 with 1 Axes>"
      ]
     },
     "metadata": {},
     "output_type": "display_data"
    },
    {
     "name": "stdout",
     "output_type": "stream",
     "text": [
      "Precisión en Entrenamiento: [1.0, 1.0, 1.0, 1.0, 1.0, 1.0, 1.0, 1.0, 1.0, 1.0, 1.0]\n",
      "Precisión en Prueba: [0.9901960784313726, 0.9901960784313726, 0.9901960784313726, 0.9901960784313726, 0.9901960784313726, 0.9901960784313726, 0.9901960784313726, 0.9901960784313726, 0.9901960784313726, 0.9901960784313726, 0.9901960784313726]\n"
     ]
    }
   ],
   "source": [
    "# Rango de profundidades a probar\n",
    "max_depths = [None, 1, 2, 3, 4, 5, 6, 7, 8, 9, 10]\n",
    "\n",
    "# Almacenar resultados\n",
    "train_accuracies = []\n",
    "test_accuracies = []\n",
    "\n",
    "for max_depth in max_depths:\n",
    "    classifier = DecisionTreeClassifier(max_depth=max_depth, random_state=42)\n",
    "    classifier.fit(X_train_resampled, y_train_resampled)\n",
    "    \n",
    "    # Calcular precisión en el conjunto de entrenamiento\n",
    "    train_pred = classifier.predict(X_train_resampled)\n",
    "    train_accuracy = accuracy_score(y_train_resampled, train_pred)\n",
    "    train_accuracies.append(train_accuracy)\n",
    "    \n",
    "    # Calcular precisión en el conjunto de prueba\n",
    "    test_pred = classifier.predict(X_test)\n",
    "    test_accuracy = accuracy_score(y_test, test_pred)\n",
    "    test_accuracies.append(test_accuracy)\n",
    "\n",
    "# Graficar los resultados\n",
    "plt.figure(figsize=(10, 6))\n",
    "plt.plot(max_depths[:-1], train_accuracies[:-1], label='Precisión en Entrenamiento', marker='o')\n",
    "plt.plot(max_depths[:-1], test_accuracies[:-1], label='Precisión en Prueba', marker='o')\n",
    "plt.xlabel('Profundidad Máxima del Árbol')\n",
    "plt.ylabel('Precisión')\n",
    "plt.title('Curva de Ajuste del Árbol de Decisión')\n",
    "plt.legend()\n",
    "plt.grid(True)\n",
    "plt.show()\n",
    "\n",
    "# Imprimir las precisiones para verificar\n",
    "print(\"Precisión en Entrenamiento:\", train_accuracies)\n",
    "print(\"Precisión en Prueba:\", test_accuracies)\n"
   ]
  },
  {
   "cell_type": "markdown",
   "metadata": {
    "id": "EiqnqbBuNmmW"
   },
   "source": [
    "Instancien, entrenen y predigan sobre un modelo de k-vecinos asignando una cantidad de vecinos k-aribitraria. "
   ]
  },
  {
   "cell_type": "code",
   "execution_count": 89,
   "metadata": {
    "id": "m_n9Yfg0NmTP"
   },
   "outputs": [
    {
     "name": "stdout",
     "output_type": "stream",
     "text": [
      "Matriz de Confusión:\n",
      "[[189   2]\n",
      " [  0  13]]\n"
     ]
    }
   ],
   "source": [
    "from sklearn.neighbors import KNeighborsClassifier\n",
    "\n",
    "# Instanciar un modelo K-Nearest Neighbors con una cantidad arbitraria de vecinos (por ejemplo, k=5)\n",
    "knn = KNeighborsClassifier(n_neighbors=5)\n",
    "\n",
    "# Entrenar el modelo KNN\n",
    "knn.fit(X_train_resampled, y_train_resampled)\n",
    "\n",
    "# Hacer predicciones sobre el conjunto de prueba\n",
    "y_pred = knn.predict(X_test)\n",
    "y_prob = knn.predict_proba(X_test)[:, 1]\n",
    "\n",
    "print(\"Matriz de Confusión:\")\n",
    "print(cm)\n"
   ]
  },
  {
   "cell_type": "markdown",
   "metadata": {
    "id": "kiZg1tfCS38i"
   },
   "source": [
    "Encuentre el valor óptimo para k"
   ]
  },
  {
   "cell_type": "code",
   "execution_count": 86,
   "metadata": {
    "id": "DVaNp3K9S7Os"
   },
   "outputs": [
    {
     "name": "stdout",
     "output_type": "stream",
     "text": [
      "El mejor valor para k es: 1\n"
     ]
    },
    {
     "data": {
      "image/png": "[encoded data removed]",
      "text/plain": [
       "<Figure size 1000x600 with 1 Axes>"
      ]
     },
     "metadata": {},
     "output_type": "display_data"
    }
   ],
   "source": [
    "from sklearn.model_selection import cross_val_score\n",
    "\n",
    "# Definir el rango de valores para `k`\n",
    "k_values = range(1, 21)  # Por ejemplo, probamos valores de 1 a 20\n",
    "mean_accuracies = []\n",
    "\n",
    "# Evaluar el modelo para cada valor de `k` usando validación cruzada\n",
    "for k in k_values:\n",
    "    knn = KNeighborsClassifier(n_neighbors=k)\n",
    "    scores = cross_val_score(knn, X_train_resampled, y_train_resampled, cv=5, scoring='accuracy')\n",
    "    mean_accuracies.append(scores.mean())\n",
    "\n",
    "# Encontrar el mejor valor de `k`\n",
    "best_k = k_values[np.argmax(mean_accuracies)]\n",
    "print(f\"El mejor valor para k es: {best_k}\")\n",
    "\n",
    "# Graficar los resultados\n",
    "plt.figure(figsize=(10, 6))\n",
    "plt.plot(k_values, mean_accuracies, marker='o')\n",
    "plt.xlabel('Número de Vecinos k')\n",
    "plt.ylabel('Precisión Media de Validación')\n",
    "plt.title('Curva de Validación para k en K-Vecinos')\n",
    "plt.grid(True)\n",
    "plt.show()\n"
   ]
  },
  {
   "cell_type": "markdown",
   "metadata": {
    "id": "_xXX6APsNjkV"
   },
   "source": [
    "Halle las mismas tres métricas de evaluación para este modelo de clasificación y compare los valores para el performance, respecto al árbol de decisión cuyo hiperparámetro **max_depth** se optimizó. ¿Qué puede concluir? "
   ]
  },
  {
   "cell_type": "code",
   "execution_count": 90,
   "metadata": {
    "id": "paHDdRnYN_Gl"
   },
   "outputs": [
    {
     "name": "stdout",
     "output_type": "stream",
     "text": [
      "Precisión: 0.99\n",
      "Puntaje F1: 0.93\n",
      "AUC-ROC: 0.99\n"
     ]
    }
   ],
   "source": [
    "# Calcular y mostrar las métricas de evaluación\n",
    "accuracy = accuracy_score(y_test, y_pred)\n",
    "f1 = f1_score(y_test, y_pred)\n",
    "auc_roc = roc_auc_score(y_test, y_prob)\n",
    "cm = confusion_matrix(y_test, y_pred)\n",
    "print(f'Precisión: {accuracy:.2f}')\n",
    "print(f'Puntaje F1: {f1:.2f}')\n",
    "print(f'AUC-ROC: {auc_roc:.2f}')"
   ]
  },
  {
   "cell_type": "markdown",
   "metadata": {
    "id": "JeGx2V0lTF9i"
   },
   "source": [
    "De acuerdo con lo aprendido en el módulo, ¿Cómo cree que se puede mejorar el performance de este modelo? "
   ]
  },
  {
   "cell_type": "code",
   "execution_count": null,
   "metadata": {},
   "outputs": [],
   "source": [
    "#Por lo que vimos durante todo el módulo, los valores de las métricas que obtuve tanto en árboles de decisión como en k-vecinos son propias de un overfitting.\n",
    "#Pero como fui explicando mas arriba, probé modificando variables, hiperparámetros y resampleando y no obtuve cambios."
   ]
  },
  {
   "cell_type": "markdown",
   "metadata": {},
   "source": [
    "No hago el README porque no puedo concluir nada con los valores obtenidos."
   ]
  },
  {
   "cell_type": "markdown",
   "metadata": {
    "id": "lPfoiS6ZTN-4"
   },
   "source": [
    "R/"
   ]
  },
  {
   "cell_type": "markdown",
   "metadata": {},
   "source": [
    "# Necesitaría que me hagan un feed con el ó los errores que cometí a fin de aprender y que no me vuelvan a suceder por favor"
   ]
  }
 ],
 "metadata": {
  "colab": {
   "provenance": []
  },
  "kernelspec": {
   "display_name": "Python 3",
   "language": "python",
   "name": "python3"
  },
  "language_info": {
   "codemirror_mode": {
    "name": "ipython",
    "version": 3
   },
   "file_extension": ".py",
   "mimetype": "text/x-python",
   "name": "python",
   "nbconvert_exporter": "python",
   "pygments_lexer": "ipython3",
   "version": "3.9.7"
  },
  "orig_nbformat": 4,
  "vscode": {
   "interpreter": {
    "hash": "ae0e7af47f894f9476ada5eb18ddb08363018cc3b7dc70bce08ae16d38df8604"
   }
  }
 },
 "nbformat": 4,
 "nbformat_minor": 0
}
